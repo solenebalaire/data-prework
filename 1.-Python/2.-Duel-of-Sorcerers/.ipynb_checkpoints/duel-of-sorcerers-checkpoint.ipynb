{
 "cells": [
  {
   "cell_type": "markdown",
   "metadata": {},
   "source": [
    "<img src=\"https://bit.ly/2VnXWr2\" width=\"100\" align=\"left\">"
   ]
  },
  {
   "cell_type": "markdown",
   "metadata": {},
   "source": [
    "# Duel of Sorcerers\n",
    "You are witnessing an epic battle between two powerful sorcerers: Gandalf and Saruman. Each sorcerer has 10 spells of variable power in their mind and they are going to throw them one after the other. The winner of the duel will be the one who wins more of those clashes between spells. Spells are represented as a list of 10 integers whose value equals the power of the spell.\n",
    "```\n",
    "gandalf = [10, 11, 13, 30, 22, 11, 10, 33, 22, 22]\n",
    "saruman = [23, 66, 12, 43, 12, 10, 44, 23, 12, 17]\n",
    "```\n",
    "For example:\n",
    "- The first clash is won by Saruman: 10 against 23.\n",
    "- The second clash is won by Saruman: 11 against 66.\n",
    "- ...\n",
    "\n",
    "You will create two variables, one for each sorcerer, where the sum of clashes won will be stored. Depending on which variable is greater at the end of the duel, you will show one of the following three results on the screen:\n",
    "* Gandalf wins\n",
    "* Saruman wins\n",
    "* Tie\n",
    "\n",
    "<img src=\"images/content_lightning_bolt_big.jpg\" width=\"400\">"
   ]
  },
  {
   "cell_type": "markdown",
   "metadata": {},
   "source": [
    "## Tools\n",
    "You don't necessarily need to use all the tools. Maybe you opt to use some of them or completely different ones, they are given to help you shape the exercise. Programming exercises can be solved in many different ways.\n",
    "\n",
    "1. Data structures: **lists, dictionaries**\n",
    "2. Loop: **for loop**\n",
    "3. Conditional statements: **if-elif-else**\n",
    "4. Functions: **range(), len(), print()**\n",
    "\n",
    "## Tasks\n",
    "\n",
    "#### 1. Create two variables called `gandalf` and `saruman` and assign them the spell power lists. Create a variable called `spells` to store the number of spells that the sorcerers cast. "
   ]
  },
  {
   "cell_type": "code",
   "execution_count": null,
   "metadata": {},
   "outputs": [],
   "source": [
    "gandalf = [10, 11, 13, 30, 22, 11, 10, 33, 22, 22]\n",
    "saruman = [23, 66, 12, 43, 12, 10, 44, 23, 12, 17]\n",
    "spells = 0"
   ]
  },
  {
   "cell_type": "markdown",
   "metadata": {},
   "source": [
    "#### 2. Create two variables called `gandalf_wins` and `saruman_wins`. Set both of them to 0. \n",
    "You will use these variables to count the number of clashes each sorcerer wins. "
   ]
  },
  {
   "cell_type": "code",
   "execution_count": null,
   "metadata": {},
   "outputs": [],
   "source": [
    "gandalf_wins = 0\n",
    "saruman_wins = 0"
   ]
  },
  {
   "cell_type": "markdown",
   "metadata": {},
   "source": [
    "#### 3. Using the lists of spells of both sorcerers, update variables `gandalf_wins` and `saruman_wins` to count the number of times each sorcerer wins a clash. "
   ]
  },
  {
   "cell_type": "code",
   "execution_count": 2,
   "metadata": {},
   "outputs": [
    {
     "name": "stdout",
     "output_type": "stream",
     "text": [
      "Saruman wins 4 times and Gandalf 6 times\n"
     ]
    }
   ],
   "source": [
    "gandalf = [10, 11, 13, 30, 22, 11, 10, 33, 22, 22]\n",
    "saruman = [23, 66, 12, 43, 12, 10, 44, 23, 12, 17]\n",
    "spells = 0\n",
    "gandalf_wins = 0\n",
    "saruman_wins = 0\n",
    "\n",
    "while spells < len(gandalf):\n",
    "    if gandalf[spells] > saruman[spells]:\n",
    "        gandalf_wins += 1\n",
    "    elif gandalf[spells] < saruman[spells]:\n",
    "        saruman_wins += 1\n",
    "    spells += 1\n",
    "print('Saruman wins', saruman_wins, 'times and Gandalf', gandalf_wins,'times')"
   ]
  },
  {
   "cell_type": "markdown",
   "metadata": {},
   "source": [
    "#### 4. Who won the battle?\n",
    "Print `Gandalf wins`, `Saruman wins` or `Tie` depending on the result. "
   ]
  },
  {
   "cell_type": "code",
   "execution_count": 3,
   "metadata": {},
   "outputs": [
    {
     "name": "stdout",
     "output_type": "stream",
     "text": [
      "Gandalf wins\n"
     ]
    }
   ],
   "source": [
    "gandalf = [10, 11, 13, 30, 22, 11, 10, 33, 22, 22]\n",
    "saruman = [23, 66, 12, 43, 12, 10, 44, 23, 12, 17]\n",
    "spells = 0\n",
    "gandalf_wins = 0\n",
    "saruman_wins = 0\n",
    "\n",
    "while spells < len(gandalf):\n",
    "    if gandalf[spells] > saruman[spells]:\n",
    "        gandalf_wins += 1\n",
    "    elif gandalf[spells] < saruman[spells]:\n",
    "        saruman_wins += 1\n",
    "    spells += 1\n",
    "if saruman_wins > gandalf_wins:\n",
    "    print('Saruman wins')\n",
    "elif gandalf_wins > saruman_wins:\n",
    "    print('Gandalf wins')\n",
    "elif gandalf_wins == saruman_wins:\n",
    "    print('Tie')"
   ]
  },
  {
   "cell_type": "markdown",
   "metadata": {},
   "source": [
    "## Bonus\n",
    "\n",
    "In this bonus challenge, you'll need to check the winner of the battle but this time, a sorcerer wins if he succeeds in winning 3 spell clashes in a row.\n",
    "\n",
    "Also, the spells now have a name and there is a dictionary that associates that name to a power.\n",
    "\n",
    "```\n",
    "POWER = {\n",
    "    'Fireball': 50, \n",
    "    'Lightning bolt': 40, \n",
    "    'Magic arrow': 10, \n",
    "    'Black Tentacles': 25, \n",
    "    'Contagion': 45\n",
    "}\n",
    "\n",
    "gandalf = ['Fireball', 'Lightning bolt', 'Lightning bolt', 'Magic arrow', 'Fireball', \n",
    "           'Magic arrow', 'Lightning bolt', 'Fireball', 'Fireball', 'Fireball']\n",
    "saruman = ['Contagion', 'Contagion', 'Black Tentacles', 'Fireball', 'Black Tentacles', \n",
    "           'Lightning bolt', 'Magic arrow', 'Contagion', 'Magic arrow', 'Magic arrow']\n",
    "```\n",
    "\n",
    "#### 1. Create variables `POWER`, `gandalf` and `saruman` as seen above. Create a variable called `spells` to store the number of spells that the sorcerers cast. "
   ]
  },
  {
   "cell_type": "code",
   "execution_count": null,
   "metadata": {},
   "outputs": [],
   "source": [
    "POWER = {'Fireball': 50, 'Lightning bolt': 40, 'Magic arrow': 10, 'Black Tentacles': 25, 'Contagion': 45}\n",
    "\n",
    "gandalf = ['Fireball', 'Lightning bolt', 'Lightning bolt', 'Magic arrow', 'Fireball', 'Magic arrow', 'Lightning bolt', 'Fireball', 'Fireball', 'Fireball']\n",
    "saruman = ['Contagion', 'Contagion', 'Black Tentacles', 'Fireball', 'Black Tentacles', 'Lightning bolt', 'Magic arrow', 'Contagion', 'Magic arrow', 'Magic arrow']\n",
    "spells = 0"
   ]
  },
  {
   "cell_type": "markdown",
   "metadata": {},
   "source": [
    "#### 2. Create two variables called `gandalf_wins` and `saruman_wins`. Set both of them to 0. "
   ]
  },
  {
   "cell_type": "code",
   "execution_count": null,
   "metadata": {},
   "outputs": [],
   "source": [
    "gandalf_wins = 0\n",
    "saruman_wins = 0"
   ]
  },
  {
   "cell_type": "markdown",
   "metadata": {},
   "source": [
    "#### 3. Create two variables called `gandalf_power` and `saruman_power` to store the list of spell powers of each sorcerer."
   ]
  },
  {
   "cell_type": "code",
   "execution_count": null,
   "metadata": {},
   "outputs": [],
   "source": [
    "gandalf_power = []\n",
    "saruman_power = []"
   ]
  },
  {
   "cell_type": "markdown",
   "metadata": {},
   "source": [
    "#### 4. The battle starts! Using the variables you've created above, code the execution of spell clashes. Remember that a sorcerer wins if he succeeds in winning 3 spell clashes in a row. \n",
    "If a clash ends up in a tie, the counter of wins in a row is not restarted to 0. Remember to print who is the winner of the battle. "
   ]
  },
  {
   "cell_type": "code",
   "execution_count": 1,
   "metadata": {},
   "outputs": [
    {
     "name": "stdout",
     "output_type": "stream",
     "text": [
      "Gandalf wins\n"
     ]
    }
   ],
   "source": [
    "POWER = {'Fireball': 50, 'Lightning bolt': 40, 'Magic arrow': 10, 'Black Tentacles': 25, 'Contagion': 45}\n",
    "\n",
    "gandalf = ['Fireball', 'Lightning bolt', 'Lightning bolt', 'Magic arrow', 'Fireball', 'Magic arrow', 'Lightning bolt', 'Fireball', 'Fireball', 'Fireball']\n",
    "saruman = ['Contagion', 'Contagion', 'Black Tentacles', 'Fireball', 'Black Tentacles', 'Lightning bolt', 'Magic arrow', 'Contagion', 'Magic arrow', 'Magic arrow']\n",
    "spells = 0\n",
    "gandalf_wins = 0\n",
    "saruman_wins = 0\n",
    "gandalf_power = []\n",
    "saruman_power = []\n",
    "round_result=[]\n",
    "i = 0\n",
    "j = 0\n",
    "for x in gandalf:\n",
    "    gandalf_power.append(POWER[x])\n",
    "for y in saruman:\n",
    "    saruman_power.append(POWER[y])\n",
    "for spells in range(len(gandalf)):\n",
    "    if gandalf_power[spells] > saruman_power[spells]:\n",
    "        round_result.append(2)\n",
    "    elif gandalf_power[spells] == saruman_power[spells]:\n",
    "        round_result.append(0)\n",
    "    elif gandalf_power[spells] < saruman_power[spells]:\n",
    "        round_result.append(1)\n",
    "    spells += 1\n",
    "\n",
    "while i+2 < len(round_result):\n",
    "    if (round_result[i] == 2) & (round_result[i + 1] == 2) & (round_result[i + 2] == 2):\n",
    "        gandalf_wins += 1\n",
    "    elif (round_result[i] != 2) | (round_result[i + 1] != 2) | (round_result[i + 2] != 2):\n",
    "        gandalf_wins += 0\n",
    "            \n",
    "    i += 1\n",
    "while j+2 < len(round_result):\n",
    "    if (round_result[j] == 1) & (round_result[j + 1] == 1) & (round_result[j + 2] == 1):\n",
    "        saruman_wins += 1\n",
    "    elif (round_result[j] != 1) | (round_result[j + 1] != 1) | (round_result[j + 2] != 1):\n",
    "        saruman_wins += 0\n",
    "            \n",
    "    j += 1\n",
    "if saruman_wins > gandalf_wins:\n",
    "    print('Saruman wins')\n",
    "elif gandalf_wins > saruman_wins:\n",
    "    print('Gandalf wins')\n",
    "elif gandalf_wins == saruman_wins:\n",
    "    print('Tie')"
   ]
  },
  {
   "cell_type": "markdown",
   "metadata": {},
   "source": [
    "#### 5. Find the average spell power of Gandalf and Saruman. "
   ]
  },
  {
   "cell_type": "code",
   "execution_count": 19,
   "metadata": {},
   "outputs": [
    {
     "name": "stdout",
     "output_type": "stream",
     "text": [
      "the average spell power of Gandalf is 39.0\n",
      "the average spell power of Saruman is 30.5\n",
      "the average spell power of Gandalf and Saruman is 34.75\n"
     ]
    }
   ],
   "source": [
    "POWER = {'Fireball': 50, 'Lightning bolt': 40, 'Magic arrow': 10, 'Black Tentacles': 25, 'Contagion': 45}\n",
    "\n",
    "gandalf = ['Fireball', 'Lightning bolt', 'Lightning bolt', 'Magic arrow', 'Fireball', 'Magic arrow', 'Lightning bolt', 'Fireball', 'Fireball', 'Fireball']\n",
    "saruman = ['Contagion', 'Contagion', 'Black Tentacles', 'Fireball', 'Black Tentacles', 'Lightning bolt', 'Magic arrow', 'Contagion', 'Magic arrow', 'Magic arrow']\n",
    "spells = 0\n",
    "gandalf_wins = 0\n",
    "saruman_wins = 0\n",
    "gandalf_power = []\n",
    "saruman_power = []\n",
    "\n",
    "for x in gandalf:\n",
    "    gandalf_power.append(POWER[x])\n",
    "for y in saruman:\n",
    "    saruman_power.append(POWER[y])\n",
    "mean_gandalfandsaruman = (sum(gandalf_power + saruman_power))/ (len(gandalf_power) + len(saruman_power))\n",
    "mean_gandalf = (sum(gandalf_power)) / len(gandalf_power)\n",
    "mean_saruman = sum(saruman_power) / len(saruman_power)\n",
    "print('the average spell power of Gandalf is', mean_gandalf)\n",
    "\n",
    "print('the average spell power of Saruman is', mean_saruman)\n",
    "\n",
    "print('the average spell power of Gandalf and Saruman is', mean_gandalfandsaruman)                                              "
   ]
  },
  {
   "cell_type": "markdown",
   "metadata": {},
   "source": [
    "#### 6. Find the standard deviation of the spell power of Gandalf and Saruman. "
   ]
  },
  {
   "cell_type": "code",
   "execution_count": 30,
   "metadata": {
    "scrolled": true
   },
   "outputs": [
    {
     "name": "stdout",
     "output_type": "stream",
     "text": [
      "the standard deviation of the spell power of Gandalf is 15.951314818673865\n",
      "the standard deviation of the spell power of Saruman is 16.40629960309962\n",
      "the standard deviation of the spell power of both is 16.341342468849078\n"
     ]
    }
   ],
   "source": [
    "POWER = {'Fireball': 50, 'Lightning bolt': 40, 'Magic arrow': 10, 'Black Tentacles': 25, 'Contagion': 45}\n",
    "\n",
    "gandalf = ['Fireball', 'Lightning bolt', 'Lightning bolt', 'Magic arrow', 'Fireball', 'Magic arrow', 'Lightning bolt', 'Fireball', 'Fireball', 'Fireball']\n",
    "saruman = ['Contagion', 'Contagion', 'Black Tentacles', 'Fireball', 'Black Tentacles', 'Lightning bolt', 'Magic arrow', 'Contagion', 'Magic arrow', 'Magic arrow']\n",
    "spells = 0\n",
    "gandalf_wins = 0\n",
    "saruman_wins = 0\n",
    "gandalf_power = []\n",
    "saruman_power = []\n",
    "\n",
    "for x in gandalf:\n",
    "    gandalf_power.append(POWER[x])\n",
    "for y in saruman:\n",
    "    saruman_power.append(POWER[y])\n",
    "\n",
    "Gandalf_Saruman_combinepower = gandalf_power + saruman_power\n",
    "mean_gandalfandsaruman = (sum(gandalf_power + saruman_power))/ (len(gandalf_power) + len(saruman_power))\n",
    "mean_gandalf = (sum(gandalf_power)) / len(gandalf_power)\n",
    "mean_saruman = sum(saruman_power) / len(saruman_power)\n",
    "\n",
    "Ecart_type_Gandalf = (sum((i-mean_gandalf)**2 for i in gandalf_power)/(len(gandalf_power) - 1))**0.5\n",
    "Ecart_type_saruman = (sum((i-mean_saruman)**2 for i in saruman_power)/(len(saruman_power) - 1))**0.5\n",
    "Ecart_type_Gandalfandsaruman = (sum((i-mean_gandalfandsaruman)**2 for i in Gandalf_Saruman_combinepower)/(len(Gandalf_Saruman_combinepower) - 1))**0.5\n",
    "print('the standard deviation of the spell power of Gandalf is', Ecart_type_Gandalf)\n",
    "print('the standard deviation of the spell power of Saruman is', Ecart_type_saruman)\n",
    "print('the standard deviation of the spell power of both is', Ecart_type_Gandalfandsaruman)"
   ]
  },
  {
   "cell_type": "code",
   "execution_count": null,
   "metadata": {},
   "outputs": [],
   "source": []
  },
  {
   "cell_type": "code",
   "execution_count": null,
   "metadata": {},
   "outputs": [],
   "source": []
  },
  {
   "cell_type": "code",
   "execution_count": null,
   "metadata": {},
   "outputs": [],
   "source": []
  }
 ],
 "metadata": {
  "kernelspec": {
   "display_name": "Python 3",
   "language": "python",
   "name": "python3"
  },
  "language_info": {
   "codemirror_mode": {
    "name": "ipython",
    "version": 3
   },
   "file_extension": ".py",
   "mimetype": "text/x-python",
   "name": "python",
   "nbconvert_exporter": "python",
   "pygments_lexer": "ipython3",
   "version": "3.7.4"
  }
 },
 "nbformat": 4,
 "nbformat_minor": 2
}
